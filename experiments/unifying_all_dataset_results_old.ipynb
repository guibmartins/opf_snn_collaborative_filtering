{
 "cells": [
  {
   "cell_type": "code",
   "execution_count": 10,
   "metadata": {},
   "outputs": [
    {
     "data": {
      "text/plain": [
       "'../out/ml100k_results.csv'"
      ]
     },
     "execution_count": 10,
     "metadata": {},
     "output_type": "execute_result"
    }
   ],
   "source": [
    "ds = 'ml100k'\n",
    "f_name = '_'.join([params_ds.get(ds)[2], 'results.csv'])\n",
    "\"/\".join(['..', 'out', f_name])"
   ]
  },
  {
   "cell_type": "code",
   "execution_count": 3,
   "metadata": {},
   "outputs": [],
   "source": [
    "import os\n",
    "import pandas as pd\n",
    "import numpy as np\n",
    "import seaborn as sb"
   ]
  },
  {
   "cell_type": "code",
   "execution_count": 4,
   "metadata": {},
   "outputs": [],
   "source": [
    "tmp = [2, 3, 4]\n",
    "tmp.extend([i for i in range(6, 19)])\n",
    "\n",
    "dict_usecols = {\n",
    "    'kmeans': [i for i in range(2, 16)],\n",
    "    'opf': tmp,\n",
    "    'opf_snn': tmp,\n",
    "    'user_knn': [i for i in range(2, 15)],\n",
    "    'dbscan': [i for i in range(2, 18)]\n",
    "}"
   ]
  },
  {
   "cell_type": "code",
   "execution_count": 5,
   "metadata": {},
   "outputs": [],
   "source": [
    "datasets = ['amzmagazinesubs', 'ml100k', 'mlsmall']\n",
    "algorithms = ['kmeans', 'opf', 'opf_snn', 'user_knn', 'dbscan']"
   ]
  },
  {
   "cell_type": "code",
   "execution_count": 6,
   "metadata": {},
   "outputs": [],
   "source": [
    "output_dir = 'out'"
   ]
  },
  {
   "cell_type": "markdown",
   "metadata": {
    "tags": []
   },
   "source": [
    "### Creates a csv file that unifies, for each dataset, the results concerning all datasets "
   ]
  },
  {
   "cell_type": "code",
   "execution_count": 7,
   "metadata": {},
   "outputs": [],
   "source": [
    "params_ds = {'amzmagazinesubs': [30, 'jaccard', 'amzms'], 'ml100k': [50, 'cosine', 'ml100k'], 'mlsmall': [60, 'squared_euclidean', 'mlls']}"
   ]
  },
  {
   "cell_type": "code",
   "execution_count": 109,
   "metadata": {
    "tags": []
   },
   "outputs": [
    {
     "name": "stdout",
     "output_type": "stream",
     "text": [
      "Compiling results for: ['kmeans', 'opf', 'opf_snn', 'user_knn', 'dbscan']\n",
      "Compiling results of ' amzmagazinesubs '...... done.\n",
      "Compiling results of ' ml100k '...... done.\n",
      "Compiling results of ' mlsmall '...... done.\n"
     ]
    }
   ],
   "source": [
    "print(\"Compiling results for:\", algorithms)\n",
    "\n",
    "for ds in datasets:\n",
    "    \n",
    "    print(\"Compiling results of '\", ds, \"'...\", end=\"\")\n",
    "    df = pd.DataFrame()\n",
    "  \n",
    "    for algo in algorithms:\n",
    "\n",
    "        for f in os.scandir('/'.join(['..', output_dir, ds, algo])):\n",
    "\n",
    "            # out_file = pd.read_csv(f.path, index_col=1, engine='c', dtype=object)\n",
    "            # print(\"Reading file \", f.name)\n",
    "            out_file = pd.read_csv(f.path, usecols=dict_usecols.get(algo), engine='c')\n",
    "            out_file.insert(0, \"algorithm\", [algo] * out_file.shape[0])\n",
    "               \n",
    "            if algo == 'kmeans':\n",
    "                x = [i for i in range(10, 70, 10)]\n",
    "                x.insert(len(x), params_ds.get(ds)[0])\n",
    "\n",
    "                out_file.insert(1, \"n_neighbors\", x)\n",
    "                out_file.insert(2, \"n_neighbors_best\", [0] * len(x))\n",
    "\n",
    "            if algo in ['opf', 'opf_snn']:\n",
    "                out_file.rename(columns={'kmax': 'n_neighbors', \n",
    "                                         'kbest': 'n_neighbors_best', \n",
    "                                         'nclusters':'n_clusters'}, inplace=True, copy=False)\n",
    "\n",
    "            if algo == 'user_knn':\n",
    "                x = [0] * (out_file.shape[0] - 1)\n",
    "                x.insert(len(x), params_ds.get(ds)[0])\n",
    "\n",
    "                out_file.insert(2, \"n_neighbors_best\", [0] * len(x))\n",
    "                out_file.insert(3, \"n_clusters\", [0] * len(x))\n",
    "\n",
    "                x[len(x) - 1] = params_ds.get(ds)[1]\n",
    "                out_file.insert(4, \"distance\", x)\n",
    "            \n",
    "            \n",
    "            if algo == 'dbscan':\n",
    "                out_file.drop(['eps', 'min_samples'], axis=1, inplace=True)\n",
    "                out_file.insert(1, \"n_neighbors\", [params_ds.get(ds)[0]])\n",
    "                out_file.insert(2, \"n_neighbors_best\", [0])\n",
    "            \n",
    "            df = pd.concat([df, out_file])\n",
    "    \n",
    "    f_name = '_'.join([params_ds.get(ds)[2], 'results.csv'])\n",
    "    df.to_csv(\"/\".join(['..', 'out', f_name]))        \n",
    "    \n",
    "    print(\"... done.\")"
   ]
  },
  {
   "cell_type": "markdown",
   "metadata": {},
   "source": [
    "### Generates latex table considering different metrics"
   ]
  },
  {
   "cell_type": "code",
   "execution_count": 80,
   "metadata": {},
   "outputs": [
    {
     "data": {
      "text/plain": [
       "'ml100k'"
      ]
     },
     "execution_count": 80,
     "metadata": {},
     "output_type": "execute_result"
    }
   ],
   "source": [
    "eval_metric = \"mae\"\n",
    "datasets[1]"
   ]
  },
  {
   "cell_type": "code",
   "execution_count": 84,
   "metadata": {},
   "outputs": [
    {
     "data": {
      "text/html": [
       "<div>\n",
       "<style scoped>\n",
       "    .dataframe tbody tr th:only-of-type {\n",
       "        vertical-align: middle;\n",
       "    }\n",
       "\n",
       "    .dataframe tbody tr th {\n",
       "        vertical-align: top;\n",
       "    }\n",
       "\n",
       "    .dataframe thead th {\n",
       "        text-align: right;\n",
       "    }\n",
       "</style>\n",
       "<table border=\"1\" class=\"dataframe\">\n",
       "  <thead>\n",
       "    <tr style=\"text-align: right;\">\n",
       "      <th></th>\n",
       "      <th>Unnamed: 0</th>\n",
       "      <th>algorithm</th>\n",
       "      <th>n_neighbors</th>\n",
       "      <th>n_neighbors_best</th>\n",
       "      <th>n_clusters</th>\n",
       "      <th>distance</th>\n",
       "      <th>similarity</th>\n",
       "      <th>mae</th>\n",
       "      <th>rmse</th>\n",
       "      <th>ndcg@1</th>\n",
       "      <th>ndcg@5</th>\n",
       "      <th>ndcg@10</th>\n",
       "      <th>precision@1</th>\n",
       "      <th>precision@5</th>\n",
       "      <th>precision@10</th>\n",
       "      <th>recall@1</th>\n",
       "      <th>recall@5</th>\n",
       "      <th>recall@10</th>\n",
       "    </tr>\n",
       "  </thead>\n",
       "  <tbody>\n",
       "    <tr>\n",
       "      <th>0</th>\n",
       "      <td>0</td>\n",
       "      <td>kmeans</td>\n",
       "      <td>10</td>\n",
       "      <td>NaN</td>\n",
       "      <td>129</td>\n",
       "      <td>euclidean</td>\n",
       "      <td>pearson</td>\n",
       "      <td>0.988423</td>\n",
       "      <td>1.176426</td>\n",
       "      <td>0.281250</td>\n",
       "      <td>0.387818</td>\n",
       "      <td>0.528584</td>\n",
       "      <td>0.421875</td>\n",
       "      <td>0.552941</td>\n",
       "      <td>0.677778</td>\n",
       "      <td>0.203125</td>\n",
       "      <td>0.402451</td>\n",
       "      <td>0.658488</td>\n",
       "    </tr>\n",
       "    <tr>\n",
       "      <th>1</th>\n",
       "      <td>1</td>\n",
       "      <td>kmeans</td>\n",
       "      <td>20</td>\n",
       "      <td>NaN</td>\n",
       "      <td>99</td>\n",
       "      <td>euclidean</td>\n",
       "      <td>pearson</td>\n",
       "      <td>0.979485</td>\n",
       "      <td>1.170112</td>\n",
       "      <td>0.281250</td>\n",
       "      <td>0.381524</td>\n",
       "      <td>0.520869</td>\n",
       "      <td>0.421875</td>\n",
       "      <td>0.582353</td>\n",
       "      <td>0.733333</td>\n",
       "      <td>0.203125</td>\n",
       "      <td>0.402451</td>\n",
       "      <td>0.658488</td>\n",
       "    </tr>\n",
       "    <tr>\n",
       "      <th>2</th>\n",
       "      <td>2</td>\n",
       "      <td>kmeans</td>\n",
       "      <td>30</td>\n",
       "      <td>NaN</td>\n",
       "      <td>93</td>\n",
       "      <td>euclidean</td>\n",
       "      <td>pearson</td>\n",
       "      <td>0.986903</td>\n",
       "      <td>1.176076</td>\n",
       "      <td>0.312500</td>\n",
       "      <td>0.417188</td>\n",
       "      <td>0.561580</td>\n",
       "      <td>0.437500</td>\n",
       "      <td>0.552941</td>\n",
       "      <td>0.677778</td>\n",
       "      <td>0.218750</td>\n",
       "      <td>0.402451</td>\n",
       "      <td>0.658488</td>\n",
       "    </tr>\n",
       "    <tr>\n",
       "      <th>3</th>\n",
       "      <td>3</td>\n",
       "      <td>kmeans</td>\n",
       "      <td>40</td>\n",
       "      <td>NaN</td>\n",
       "      <td>85</td>\n",
       "      <td>euclidean</td>\n",
       "      <td>pearson</td>\n",
       "      <td>0.985645</td>\n",
       "      <td>1.171995</td>\n",
       "      <td>0.281250</td>\n",
       "      <td>0.396839</td>\n",
       "      <td>0.529562</td>\n",
       "      <td>0.453125</td>\n",
       "      <td>0.582353</td>\n",
       "      <td>0.733333</td>\n",
       "      <td>0.218750</td>\n",
       "      <td>0.402451</td>\n",
       "      <td>0.658488</td>\n",
       "    </tr>\n",
       "    <tr>\n",
       "      <th>4</th>\n",
       "      <td>4</td>\n",
       "      <td>kmeans</td>\n",
       "      <td>50</td>\n",
       "      <td>NaN</td>\n",
       "      <td>79</td>\n",
       "      <td>euclidean</td>\n",
       "      <td>pearson</td>\n",
       "      <td>0.984629</td>\n",
       "      <td>1.171758</td>\n",
       "      <td>0.296875</td>\n",
       "      <td>0.404952</td>\n",
       "      <td>0.540184</td>\n",
       "      <td>0.453125</td>\n",
       "      <td>0.576471</td>\n",
       "      <td>0.733333</td>\n",
       "      <td>0.218750</td>\n",
       "      <td>0.396569</td>\n",
       "      <td>0.658488</td>\n",
       "    </tr>\n",
       "    <tr>\n",
       "      <th>...</th>\n",
       "      <td>...</td>\n",
       "      <td>...</td>\n",
       "      <td>...</td>\n",
       "      <td>...</td>\n",
       "      <td>...</td>\n",
       "      <td>...</td>\n",
       "      <td>...</td>\n",
       "      <td>...</td>\n",
       "      <td>...</td>\n",
       "      <td>...</td>\n",
       "      <td>...</td>\n",
       "      <td>...</td>\n",
       "      <td>...</td>\n",
       "      <td>...</td>\n",
       "      <td>...</td>\n",
       "      <td>...</td>\n",
       "      <td>...</td>\n",
       "      <td>...</td>\n",
       "    </tr>\n",
       "    <tr>\n",
       "      <th>1496</th>\n",
       "      <td>0</td>\n",
       "      <td>dbscan</td>\n",
       "      <td>30</td>\n",
       "      <td>NaN</td>\n",
       "      <td>60</td>\n",
       "      <td>jaccard</td>\n",
       "      <td>pearson</td>\n",
       "      <td>1.139721</td>\n",
       "      <td>1.325598</td>\n",
       "      <td>0.375000</td>\n",
       "      <td>0.417013</td>\n",
       "      <td>0.392920</td>\n",
       "      <td>0.406250</td>\n",
       "      <td>0.583333</td>\n",
       "      <td>0.612778</td>\n",
       "      <td>0.171875</td>\n",
       "      <td>0.337500</td>\n",
       "      <td>0.283333</td>\n",
       "    </tr>\n",
       "    <tr>\n",
       "      <th>1497</th>\n",
       "      <td>0</td>\n",
       "      <td>dbscan</td>\n",
       "      <td>30</td>\n",
       "      <td>NaN</td>\n",
       "      <td>56</td>\n",
       "      <td>jaccard</td>\n",
       "      <td>pearson</td>\n",
       "      <td>1.023602</td>\n",
       "      <td>1.183028</td>\n",
       "      <td>0.375000</td>\n",
       "      <td>0.402681</td>\n",
       "      <td>0.364942</td>\n",
       "      <td>0.406250</td>\n",
       "      <td>0.585484</td>\n",
       "      <td>0.582353</td>\n",
       "      <td>0.203125</td>\n",
       "      <td>0.315054</td>\n",
       "      <td>0.266176</td>\n",
       "    </tr>\n",
       "    <tr>\n",
       "      <th>1498</th>\n",
       "      <td>0</td>\n",
       "      <td>dbscan</td>\n",
       "      <td>30</td>\n",
       "      <td>NaN</td>\n",
       "      <td>61</td>\n",
       "      <td>jaccard</td>\n",
       "      <td>pearson</td>\n",
       "      <td>1.131971</td>\n",
       "      <td>1.315671</td>\n",
       "      <td>0.468750</td>\n",
       "      <td>0.511988</td>\n",
       "      <td>0.450166</td>\n",
       "      <td>0.484375</td>\n",
       "      <td>0.547619</td>\n",
       "      <td>0.531373</td>\n",
       "      <td>0.234375</td>\n",
       "      <td>0.311905</td>\n",
       "      <td>0.241176</td>\n",
       "    </tr>\n",
       "    <tr>\n",
       "      <th>1499</th>\n",
       "      <td>0</td>\n",
       "      <td>dbscan</td>\n",
       "      <td>30</td>\n",
       "      <td>NaN</td>\n",
       "      <td>59</td>\n",
       "      <td>jaccard</td>\n",
       "      <td>pearson</td>\n",
       "      <td>1.018913</td>\n",
       "      <td>1.160627</td>\n",
       "      <td>0.390625</td>\n",
       "      <td>0.523989</td>\n",
       "      <td>0.502935</td>\n",
       "      <td>0.437500</td>\n",
       "      <td>0.521078</td>\n",
       "      <td>0.498413</td>\n",
       "      <td>0.218750</td>\n",
       "      <td>0.351471</td>\n",
       "      <td>0.261338</td>\n",
       "    </tr>\n",
       "    <tr>\n",
       "      <th>1500</th>\n",
       "      <td>0</td>\n",
       "      <td>dbscan</td>\n",
       "      <td>30</td>\n",
       "      <td>NaN</td>\n",
       "      <td>65</td>\n",
       "      <td>jaccard</td>\n",
       "      <td>pearson</td>\n",
       "      <td>1.039425</td>\n",
       "      <td>1.176963</td>\n",
       "      <td>0.500000</td>\n",
       "      <td>0.601239</td>\n",
       "      <td>0.521881</td>\n",
       "      <td>0.578125</td>\n",
       "      <td>0.640686</td>\n",
       "      <td>0.630247</td>\n",
       "      <td>0.296875</td>\n",
       "      <td>0.418137</td>\n",
       "      <td>0.306504</td>\n",
       "    </tr>\n",
       "  </tbody>\n",
       "</table>\n",
       "<p>1501 rows × 18 columns</p>\n",
       "</div>"
      ],
      "text/plain": [
       "      Unnamed: 0 algorithm  n_neighbors  n_neighbors_best  n_clusters  \\\n",
       "0              0    kmeans           10               NaN         129   \n",
       "1              1    kmeans           20               NaN          99   \n",
       "2              2    kmeans           30               NaN          93   \n",
       "3              3    kmeans           40               NaN          85   \n",
       "4              4    kmeans           50               NaN          79   \n",
       "...          ...       ...          ...               ...         ...   \n",
       "1496           0    dbscan           30               NaN          60   \n",
       "1497           0    dbscan           30               NaN          56   \n",
       "1498           0    dbscan           30               NaN          61   \n",
       "1499           0    dbscan           30               NaN          59   \n",
       "1500           0    dbscan           30               NaN          65   \n",
       "\n",
       "       distance similarity       mae      rmse    ndcg@1    ndcg@5   ndcg@10  \\\n",
       "0     euclidean    pearson  0.988423  1.176426  0.281250  0.387818  0.528584   \n",
       "1     euclidean    pearson  0.979485  1.170112  0.281250  0.381524  0.520869   \n",
       "2     euclidean    pearson  0.986903  1.176076  0.312500  0.417188  0.561580   \n",
       "3     euclidean    pearson  0.985645  1.171995  0.281250  0.396839  0.529562   \n",
       "4     euclidean    pearson  0.984629  1.171758  0.296875  0.404952  0.540184   \n",
       "...         ...        ...       ...       ...       ...       ...       ...   \n",
       "1496    jaccard    pearson  1.139721  1.325598  0.375000  0.417013  0.392920   \n",
       "1497    jaccard    pearson  1.023602  1.183028  0.375000  0.402681  0.364942   \n",
       "1498    jaccard    pearson  1.131971  1.315671  0.468750  0.511988  0.450166   \n",
       "1499    jaccard    pearson  1.018913  1.160627  0.390625  0.523989  0.502935   \n",
       "1500    jaccard    pearson  1.039425  1.176963  0.500000  0.601239  0.521881   \n",
       "\n",
       "      precision@1  precision@5  precision@10  recall@1  recall@5  recall@10  \n",
       "0        0.421875     0.552941      0.677778  0.203125  0.402451   0.658488  \n",
       "1        0.421875     0.582353      0.733333  0.203125  0.402451   0.658488  \n",
       "2        0.437500     0.552941      0.677778  0.218750  0.402451   0.658488  \n",
       "3        0.453125     0.582353      0.733333  0.218750  0.402451   0.658488  \n",
       "4        0.453125     0.576471      0.733333  0.218750  0.396569   0.658488  \n",
       "...           ...          ...           ...       ...       ...        ...  \n",
       "1496     0.406250     0.583333      0.612778  0.171875  0.337500   0.283333  \n",
       "1497     0.406250     0.585484      0.582353  0.203125  0.315054   0.266176  \n",
       "1498     0.484375     0.547619      0.531373  0.234375  0.311905   0.241176  \n",
       "1499     0.437500     0.521078      0.498413  0.218750  0.351471   0.261338  \n",
       "1500     0.578125     0.640686      0.630247  0.296875  0.418137   0.306504  \n",
       "\n",
       "[1501 rows x 18 columns]"
      ]
     },
     "execution_count": 84,
     "metadata": {},
     "output_type": "execute_result"
    }
   ],
   "source": [
    "df = pd.read_csv(params_ds.get(datasets[0])[2] + '_results.csv')\n",
    "df"
   ]
  },
  {
   "cell_type": "code",
   "execution_count": 85,
   "metadata": {},
   "outputs": [
    {
     "data": {
      "text/plain": [
       "'opf'"
      ]
     },
     "execution_count": 85,
     "metadata": {},
     "output_type": "execute_result"
    }
   ],
   "source": [
    "algo = algorithms[1]\n",
    "algo"
   ]
  },
  {
   "cell_type": "code",
   "execution_count": 87,
   "metadata": {},
   "outputs": [
    {
     "data": {
      "text/plain": [
       "<AxesSubplot:xlabel='n_neighbors', ylabel='mae'>"
      ]
     },
     "execution_count": 87,
     "metadata": {},
     "output_type": "execute_result"
    },
    {
     "data": {
      "image/png": "[encoded data removed]",
      "text/plain": [
       "<Figure size 432x288 with 1 Axes>"
      ]
     },
     "metadata": {
      "needs_background": "light"
     },
     "output_type": "display_data"
    }
   ],
   "source": [
    "tmp_df = df[['algorithm', 'n_neighbors', 'distance', eval_metric]].query(f\"algorithm == '{algorithms[1]}'\")\n",
    "sb.lineplot(data=tmp_df, x='n_neighbors', y=eval_metric, hue='distance', errorbar=None, err_style='band')"
   ]
  },
  {
   "cell_type": "code",
   "execution_count": 88,
   "metadata": {},
   "outputs": [
    {
     "data": {
      "text/plain": [
       "<AxesSubplot:xlabel='n_neighbors', ylabel='mae'>"
      ]
     },
     "execution_count": 88,
     "metadata": {},
     "output_type": "execute_result"
    },
    {
     "data": {
      "image/png": "[encoded data removed]",
      "text/plain": [
       "<Figure size 432x288 with 1 Axes>"
      ]
     },
     "metadata": {
      "needs_background": "light"
     },
     "output_type": "display_data"
    }
   ],
   "source": [
    "tmp_df = df[['algorithm', 'n_neighbors', 'distance', eval_metric]].query(f\"algorithm == '{algorithms[2]}'\")\n",
    "sb.lineplot(data=tmp_df, x='n_neighbors', y=eval_metric, hue='distance', errorbar=None, err_style='band')"
   ]
  },
  {
   "cell_type": "code",
   "execution_count": 89,
   "metadata": {},
   "outputs": [
    {
     "data": {
      "text/html": [
       "<div>\n",
       "<style scoped>\n",
       "    .dataframe tbody tr th:only-of-type {\n",
       "        vertical-align: middle;\n",
       "    }\n",
       "\n",
       "    .dataframe tbody tr th {\n",
       "        vertical-align: top;\n",
       "    }\n",
       "\n",
       "    .dataframe thead th {\n",
       "        text-align: right;\n",
       "    }\n",
       "</style>\n",
       "<table border=\"1\" class=\"dataframe\">\n",
       "  <thead>\n",
       "    <tr style=\"text-align: right;\">\n",
       "      <th></th>\n",
       "      <th>algorithm</th>\n",
       "      <th>n_neighbors</th>\n",
       "      <th>mae</th>\n",
       "    </tr>\n",
       "  </thead>\n",
       "  <tbody>\n",
       "    <tr>\n",
       "      <th>140</th>\n",
       "      <td>opf</td>\n",
       "      <td>10</td>\n",
       "      <td>1.027440</td>\n",
       "    </tr>\n",
       "    <tr>\n",
       "      <th>141</th>\n",
       "      <td>opf</td>\n",
       "      <td>10</td>\n",
       "      <td>0.957234</td>\n",
       "    </tr>\n",
       "    <tr>\n",
       "      <th>142</th>\n",
       "      <td>opf</td>\n",
       "      <td>10</td>\n",
       "      <td>1.029783</td>\n",
       "    </tr>\n",
       "    <tr>\n",
       "      <th>143</th>\n",
       "      <td>opf</td>\n",
       "      <td>10</td>\n",
       "      <td>0.953623</td>\n",
       "    </tr>\n",
       "    <tr>\n",
       "      <th>144</th>\n",
       "      <td>opf</td>\n",
       "      <td>10</td>\n",
       "      <td>0.955078</td>\n",
       "    </tr>\n",
       "    <tr>\n",
       "      <th>...</th>\n",
       "      <td>...</td>\n",
       "      <td>...</td>\n",
       "      <td>...</td>\n",
       "    </tr>\n",
       "    <tr>\n",
       "      <th>1335</th>\n",
       "      <td>opf_snn</td>\n",
       "      <td>60</td>\n",
       "      <td>1.067514</td>\n",
       "    </tr>\n",
       "    <tr>\n",
       "      <th>1336</th>\n",
       "      <td>opf_snn</td>\n",
       "      <td>60</td>\n",
       "      <td>1.033327</td>\n",
       "    </tr>\n",
       "    <tr>\n",
       "      <th>1337</th>\n",
       "      <td>opf_snn</td>\n",
       "      <td>60</td>\n",
       "      <td>1.032813</td>\n",
       "    </tr>\n",
       "    <tr>\n",
       "      <th>1338</th>\n",
       "      <td>opf_snn</td>\n",
       "      <td>60</td>\n",
       "      <td>1.058429</td>\n",
       "    </tr>\n",
       "    <tr>\n",
       "      <th>1339</th>\n",
       "      <td>opf_snn</td>\n",
       "      <td>60</td>\n",
       "      <td>1.021104</td>\n",
       "    </tr>\n",
       "  </tbody>\n",
       "</table>\n",
       "<p>1200 rows × 3 columns</p>\n",
       "</div>"
      ],
      "text/plain": [
       "     algorithm  n_neighbors       mae\n",
       "140        opf           10  1.027440\n",
       "141        opf           10  0.957234\n",
       "142        opf           10  1.029783\n",
       "143        opf           10  0.953623\n",
       "144        opf           10  0.955078\n",
       "...        ...          ...       ...\n",
       "1335   opf_snn           60  1.067514\n",
       "1336   opf_snn           60  1.033327\n",
       "1337   opf_snn           60  1.032813\n",
       "1338   opf_snn           60  1.058429\n",
       "1339   opf_snn           60  1.021104\n",
       "\n",
       "[1200 rows x 3 columns]"
      ]
     },
     "execution_count": 89,
     "metadata": {},
     "output_type": "execute_result"
    }
   ],
   "source": [
    "tmp_df = df[['algorithm', 'n_neighbors', eval_metric]].query(f\"algorithm == '{algorithms[1]}' or algorithm == '{algorithms[2]}'\")\n",
    "tmp_df"
   ]
  },
  {
   "cell_type": "code",
   "execution_count": 90,
   "metadata": {},
   "outputs": [],
   "source": [
    "opf_means = tmp_df.groupby(by=\"n_neighbors\").mean()\n",
    "opf_snn_means = tmp_df.groupby(by=\"n_neighbors\").mean()"
   ]
  },
  {
   "cell_type": "code",
   "execution_count": 91,
   "metadata": {},
   "outputs": [
    {
     "data": {
      "text/plain": [
       "<AxesSubplot:xlabel='n_neighbors', ylabel='mae'>"
      ]
     },
     "execution_count": 91,
     "metadata": {},
     "output_type": "execute_result"
    },
    {
     "data": {
      "image/png": "[encoded data removed]",
      "text/plain": [
       "<Figure size 432x288 with 1 Axes>"
      ]
     },
     "metadata": {
      "needs_background": "light"
     },
     "output_type": "display_data"
    }
   ],
   "source": [
    "sb.lineplot(data=tmp_df, x='n_neighbors', y='mae', hue='algorithm')"
   ]
  },
  {
   "cell_type": "code",
   "execution_count": 92,
   "metadata": {},
   "outputs": [
    {
     "data": {
      "text/plain": [
       "<AxesSubplot:xlabel='n_neighbors', ylabel='mae'>"
      ]
     },
     "execution_count": 92,
     "metadata": {},
     "output_type": "execute_result"
    },
    {
     "data": {
      "image/png": "[encoded data removed]",
      "text/plain": [
       "<Figure size 432x288 with 1 Axes>"
      ]
     },
     "metadata": {
      "needs_background": "light"
     },
     "output_type": "display_data"
    }
   ],
   "source": [
    "sb.lineplot(data=tmp_df, x='n_neighbors', y='mae')"
   ]
  },
  {
   "cell_type": "code",
   "execution_count": 29,
   "metadata": {},
   "outputs": [
    {
     "data": {
      "text/html": [
       "<div>\n",
       "<style scoped>\n",
       "    .dataframe tbody tr th:only-of-type {\n",
       "        vertical-align: middle;\n",
       "    }\n",
       "\n",
       "    .dataframe tbody tr th {\n",
       "        vertical-align: top;\n",
       "    }\n",
       "\n",
       "    .dataframe thead th {\n",
       "        text-align: right;\n",
       "    }\n",
       "</style>\n",
       "<table border=\"1\" class=\"dataframe\">\n",
       "  <thead>\n",
       "    <tr style=\"text-align: right;\">\n",
       "      <th></th>\n",
       "      <th>algorithm</th>\n",
       "      <th>n_neighbors</th>\n",
       "      <th>mae</th>\n",
       "    </tr>\n",
       "  </thead>\n",
       "  <tbody>\n",
       "    <tr>\n",
       "      <th>0</th>\n",
       "      <td>kmeans</td>\n",
       "      <td>10</td>\n",
       "      <td>0.988423</td>\n",
       "    </tr>\n",
       "    <tr>\n",
       "      <th>6</th>\n",
       "      <td>kmeans</td>\n",
       "      <td>10</td>\n",
       "      <td>0.985324</td>\n",
       "    </tr>\n",
       "    <tr>\n",
       "      <th>12</th>\n",
       "      <td>kmeans</td>\n",
       "      <td>10</td>\n",
       "      <td>0.988423</td>\n",
       "    </tr>\n",
       "    <tr>\n",
       "      <th>18</th>\n",
       "      <td>kmeans</td>\n",
       "      <td>10</td>\n",
       "      <td>0.985324</td>\n",
       "    </tr>\n",
       "    <tr>\n",
       "      <th>24</th>\n",
       "      <td>kmeans</td>\n",
       "      <td>10</td>\n",
       "      <td>0.988423</td>\n",
       "    </tr>\n",
       "    <tr>\n",
       "      <th>30</th>\n",
       "      <td>kmeans</td>\n",
       "      <td>10</td>\n",
       "      <td>0.983444</td>\n",
       "    </tr>\n",
       "    <tr>\n",
       "      <th>36</th>\n",
       "      <td>kmeans</td>\n",
       "      <td>10</td>\n",
       "      <td>0.993142</td>\n",
       "    </tr>\n",
       "    <tr>\n",
       "      <th>42</th>\n",
       "      <td>kmeans</td>\n",
       "      <td>10</td>\n",
       "      <td>0.988061</td>\n",
       "    </tr>\n",
       "    <tr>\n",
       "      <th>48</th>\n",
       "      <td>kmeans</td>\n",
       "      <td>10</td>\n",
       "      <td>0.988329</td>\n",
       "    </tr>\n",
       "    <tr>\n",
       "      <th>54</th>\n",
       "      <td>kmeans</td>\n",
       "      <td>10</td>\n",
       "      <td>0.985324</td>\n",
       "    </tr>\n",
       "    <tr>\n",
       "      <th>60</th>\n",
       "      <td>kmeans</td>\n",
       "      <td>10</td>\n",
       "      <td>0.988061</td>\n",
       "    </tr>\n",
       "    <tr>\n",
       "      <th>66</th>\n",
       "      <td>kmeans</td>\n",
       "      <td>10</td>\n",
       "      <td>0.988423</td>\n",
       "    </tr>\n",
       "    <tr>\n",
       "      <th>72</th>\n",
       "      <td>kmeans</td>\n",
       "      <td>10</td>\n",
       "      <td>0.989261</td>\n",
       "    </tr>\n",
       "    <tr>\n",
       "      <th>78</th>\n",
       "      <td>kmeans</td>\n",
       "      <td>10</td>\n",
       "      <td>0.988061</td>\n",
       "    </tr>\n",
       "    <tr>\n",
       "      <th>84</th>\n",
       "      <td>kmeans</td>\n",
       "      <td>10</td>\n",
       "      <td>0.993223</td>\n",
       "    </tr>\n",
       "    <tr>\n",
       "      <th>90</th>\n",
       "      <td>kmeans</td>\n",
       "      <td>10</td>\n",
       "      <td>0.993619</td>\n",
       "    </tr>\n",
       "    <tr>\n",
       "      <th>96</th>\n",
       "      <td>kmeans</td>\n",
       "      <td>10</td>\n",
       "      <td>0.983444</td>\n",
       "    </tr>\n",
       "    <tr>\n",
       "      <th>102</th>\n",
       "      <td>kmeans</td>\n",
       "      <td>10</td>\n",
       "      <td>0.989563</td>\n",
       "    </tr>\n",
       "    <tr>\n",
       "      <th>108</th>\n",
       "      <td>kmeans</td>\n",
       "      <td>10</td>\n",
       "      <td>0.985022</td>\n",
       "    </tr>\n",
       "    <tr>\n",
       "      <th>114</th>\n",
       "      <td>kmeans</td>\n",
       "      <td>10</td>\n",
       "      <td>0.983444</td>\n",
       "    </tr>\n",
       "  </tbody>\n",
       "</table>\n",
       "</div>"
      ],
      "text/plain": [
       "    algorithm  n_neighbors       mae\n",
       "0      kmeans           10  0.988423\n",
       "6      kmeans           10  0.985324\n",
       "12     kmeans           10  0.988423\n",
       "18     kmeans           10  0.985324\n",
       "24     kmeans           10  0.988423\n",
       "30     kmeans           10  0.983444\n",
       "36     kmeans           10  0.993142\n",
       "42     kmeans           10  0.988061\n",
       "48     kmeans           10  0.988329\n",
       "54     kmeans           10  0.985324\n",
       "60     kmeans           10  0.988061\n",
       "66     kmeans           10  0.988423\n",
       "72     kmeans           10  0.989261\n",
       "78     kmeans           10  0.988061\n",
       "84     kmeans           10  0.993223\n",
       "90     kmeans           10  0.993619\n",
       "96     kmeans           10  0.983444\n",
       "102    kmeans           10  0.989563\n",
       "108    kmeans           10  0.985022\n",
       "114    kmeans           10  0.983444"
      ]
     },
     "execution_count": 29,
     "metadata": {},
     "output_type": "execute_result"
    }
   ],
   "source": [
    "tmp_df.query(f\"algorithm == '{algo}' and n_neighbors == 10\")"
   ]
  },
  {
   "cell_type": "code",
   "execution_count": 14,
   "metadata": {},
   "outputs": [
    {
     "data": {
      "text/html": [
       "<div>\n",
       "<style scoped>\n",
       "    .dataframe tbody tr th:only-of-type {\n",
       "        vertical-align: middle;\n",
       "    }\n",
       "\n",
       "    .dataframe tbody tr th {\n",
       "        vertical-align: top;\n",
       "    }\n",
       "\n",
       "    .dataframe thead th {\n",
       "        text-align: right;\n",
       "    }\n",
       "</style>\n",
       "<table border=\"1\" class=\"dataframe\">\n",
       "  <thead>\n",
       "    <tr style=\"text-align: right;\">\n",
       "      <th></th>\n",
       "      <th>n_clusters</th>\n",
       "      <th>mae</th>\n",
       "    </tr>\n",
       "    <tr>\n",
       "      <th>n_neighbors</th>\n",
       "      <th></th>\n",
       "      <th></th>\n",
       "    </tr>\n",
       "  </thead>\n",
       "  <tbody>\n",
       "    <tr>\n",
       "      <th>10</th>\n",
       "      <td>37.724625</td>\n",
       "      <td>0.003096</td>\n",
       "    </tr>\n",
       "    <tr>\n",
       "      <th>20</th>\n",
       "      <td>5.556172</td>\n",
       "      <td>0.001814</td>\n",
       "    </tr>\n",
       "    <tr>\n",
       "      <th>30</th>\n",
       "      <td>6.442254</td>\n",
       "      <td>0.003599</td>\n",
       "    </tr>\n",
       "    <tr>\n",
       "      <th>40</th>\n",
       "      <td>6.640189</td>\n",
       "      <td>0.003771</td>\n",
       "    </tr>\n",
       "    <tr>\n",
       "      <th>50</th>\n",
       "      <td>5.458938</td>\n",
       "      <td>0.002498</td>\n",
       "    </tr>\n",
       "    <tr>\n",
       "      <th>60</th>\n",
       "      <td>4.549147</td>\n",
       "      <td>0.002588</td>\n",
       "    </tr>\n",
       "  </tbody>\n",
       "</table>\n",
       "</div>"
      ],
      "text/plain": [
       "             n_clusters       mae\n",
       "n_neighbors                      \n",
       "10            37.724625  0.003096\n",
       "20             5.556172  0.001814\n",
       "30             6.442254  0.003599\n",
       "40             6.640189  0.003771\n",
       "50             5.458938  0.002498\n",
       "60             4.549147  0.002588"
      ]
     },
     "execution_count": 14,
     "metadata": {},
     "output_type": "execute_result"
    }
   ],
   "source": [
    "query_mean = df.query(\"algorithm == 'kmeans'\")[['n_neighbors', 'n_clusters', eval_metric]].groupby(by='n_neighbors').mean()\n",
    "query_std = df.query(\"algorithm == 'kmeans'\")[['n_neighbors', 'n_clusters', eval_metric]].groupby(by='n_neighbors').std()\n",
    "query_std"
   ]
  },
  {
   "cell_type": "code",
   "execution_count": 30,
   "metadata": {},
   "outputs": [
    {
     "data": {
      "text/html": [
       "<div>\n",
       "<style scoped>\n",
       "    .dataframe tbody tr th:only-of-type {\n",
       "        vertical-align: middle;\n",
       "    }\n",
       "\n",
       "    .dataframe tbody tr th {\n",
       "        vertical-align: top;\n",
       "    }\n",
       "\n",
       "    .dataframe thead th {\n",
       "        text-align: right;\n",
       "    }\n",
       "</style>\n",
       "<table border=\"1\" class=\"dataframe\">\n",
       "  <thead>\n",
       "    <tr style=\"text-align: right;\">\n",
       "      <th></th>\n",
       "      <th>n_clusters</th>\n",
       "      <th>mae</th>\n",
       "      <th>mae</th>\n",
       "    </tr>\n",
       "    <tr>\n",
       "      <th>n_neighbors</th>\n",
       "      <th></th>\n",
       "      <th></th>\n",
       "      <th></th>\n",
       "    </tr>\n",
       "  </thead>\n",
       "  <tbody>\n",
       "    <tr>\n",
       "      <th>10</th>\n",
       "      <td>158.90</td>\n",
       "      <td>0.987817</td>\n",
       "      <td>0.003096</td>\n",
       "    </tr>\n",
       "    <tr>\n",
       "      <th>20</th>\n",
       "      <td>102.35</td>\n",
       "      <td>0.983113</td>\n",
       "      <td>0.001814</td>\n",
       "    </tr>\n",
       "    <tr>\n",
       "      <th>30</th>\n",
       "      <td>92.15</td>\n",
       "      <td>0.984218</td>\n",
       "      <td>0.003599</td>\n",
       "    </tr>\n",
       "    <tr>\n",
       "      <th>40</th>\n",
       "      <td>87.75</td>\n",
       "      <td>0.984392</td>\n",
       "      <td>0.003771</td>\n",
       "    </tr>\n",
       "    <tr>\n",
       "      <th>50</th>\n",
       "      <td>77.30</td>\n",
       "      <td>0.986129</td>\n",
       "      <td>0.002498</td>\n",
       "    </tr>\n",
       "    <tr>\n",
       "      <th>60</th>\n",
       "      <td>74.20</td>\n",
       "      <td>0.987188</td>\n",
       "      <td>0.002588</td>\n",
       "    </tr>\n",
       "  </tbody>\n",
       "</table>\n",
       "</div>"
      ],
      "text/plain": [
       "             n_clusters       mae       mae\n",
       "n_neighbors                                \n",
       "10               158.90  0.987817  0.003096\n",
       "20               102.35  0.983113  0.001814\n",
       "30                92.15  0.984218  0.003599\n",
       "40                87.75  0.984392  0.003771\n",
       "50                77.30  0.986129  0.002498\n",
       "60                74.20  0.987188  0.002588"
      ]
     },
     "execution_count": 30,
     "metadata": {},
     "output_type": "execute_result"
    }
   ],
   "source": [
    "pd.concat([query_mean, query_std[['mae']]], axis=1)"
   ]
  }
 ],
 "metadata": {
  "kernelspec": {
   "display_name": "Python 3 (ipykernel)",
   "language": "python",
   "name": "python3"
  },
  "language_info": {
   "codemirror_mode": {
    "name": "ipython",
    "version": 3
   },
   "file_extension": ".py",
   "mimetype": "text/x-python",
   "name": "python",
   "nbconvert_exporter": "python",
   "pygments_lexer": "ipython3",
   "version": "3.9.7"
  }
 },
 "nbformat": 4,
 "nbformat_minor": 4
}
