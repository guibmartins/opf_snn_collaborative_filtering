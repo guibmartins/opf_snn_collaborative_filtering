{
 "cells": [
  {
   "cell_type": "code",
   "execution_count": 11,
   "metadata": {},
   "outputs": [],
   "source": [
    "import os\n",
    "import pandas as pd\n",
    "import numpy as np\n",
    "import seaborn as sb"
   ]
  },
  {
   "cell_type": "code",
   "execution_count": 12,
   "metadata": {},
   "outputs": [],
   "source": [
    "tmp = [2, 3, 4]\n",
    "tmp.extend([i for i in range(6, 19)])\n",
    "\n",
    "dict_usecols = {\n",
    "    'kmeans': [i for i in range(2, 16)],\n",
    "    'opf': tmp,\n",
    "    'opf_snn': tmp,\n",
    "    'user_knn': [i for i in range(2, 15)],\n",
    "    'dbscan': [i for i in range(2, 18)]\n",
    "}\n",
    "\n",
    "datasets = ['amzmagazinesubs', 'ml100k', 'mlsmall']\n",
    "algorithms = ['kmeans', 'opf', 'opf_snn', 'user_knn', 'dbscan']\n",
    "output_dir = 'out'"
   ]
  },
  {
   "cell_type": "markdown",
   "metadata": {
    "tags": []
   },
   "source": [
    "### Creates a csv file that unifies, for each dataset, the results concerning all datasets "
   ]
  },
  {
   "cell_type": "code",
   "execution_count": 13,
   "metadata": {},
   "outputs": [],
   "source": [
    "params_ds = {'amzmagazinesubs': [30, 'jaccard', 'amzms'], 'ml100k': [50, 'cosine', 'ml100k'], 'mlsmall': [60, 'squared_euclidean', 'mlls']}"
   ]
  },
  {
   "cell_type": "code",
   "execution_count": 109,
   "metadata": {
    "tags": []
   },
   "outputs": [
    {
     "name": "stdout",
     "output_type": "stream",
     "text": [
      "Compiling results for: ['kmeans', 'opf', 'opf_snn', 'user_knn', 'dbscan']\n",
      "Compiling results of ' amzmagazinesubs '...... done.\n",
      "Compiling results of ' ml100k '...... done.\n",
      "Compiling results of ' mlsmall '...... done.\n"
     ]
    }
   ],
   "source": [
    "print(\"Compiling results for:\", algorithms)\n",
    "\n",
    "for ds in datasets:\n",
    "    \n",
    "    print(\"Compiling results of '\", ds, \"'...\", end=\"\")\n",
    "    df = pd.DataFrame()\n",
    "  \n",
    "    for algo in algorithms:\n",
    "\n",
    "        for f in os.scandir('/'.join(['..', output_dir, ds, algo])):\n",
    "\n",
    "            # out_file = pd.read_csv(f.path, index_col=1, engine='c', dtype=object)\n",
    "            # print(\"Reading file \", f.name)\n",
    "            out_file = pd.read_csv(f.path, usecols=dict_usecols.get(algo), engine='c')\n",
    "            out_file.insert(0, \"algorithm\", [algo] * out_file.shape[0])\n",
    "               \n",
    "            if algo == 'kmeans':\n",
    "                x = [i for i in range(10, 70, 10)]\n",
    "                x.insert(len(x), params_ds.get(ds)[0])\n",
    "\n",
    "                out_file.insert(1, \"n_neighbors\", x)\n",
    "                out_file.insert(2, \"n_neighbors_best\", [0] * len(x))\n",
    "\n",
    "            if algo in ['opf', 'opf_snn']:\n",
    "                out_file.rename(columns={'kmax': 'n_neighbors', \n",
    "                                         'kbest': 'n_neighbors_best', \n",
    "                                         'nclusters':'n_clusters'}, inplace=True, copy=False)\n",
    "\n",
    "            if algo == 'user_knn':\n",
    "                x = [0] * (out_file.shape[0] - 1)\n",
    "                x.insert(len(x), params_ds.get(ds)[0])\n",
    "\n",
    "                out_file.insert(2, \"n_neighbors_best\", [0] * len(x))\n",
    "                out_file.insert(3, \"n_clusters\", [0] * len(x))\n",
    "\n",
    "                x[len(x) - 1] = params_ds.get(ds)[1]\n",
    "                out_file.insert(4, \"distance\", x)\n",
    "            \n",
    "            \n",
    "            if algo == 'dbscan':\n",
    "                out_file.drop(['eps', 'min_samples'], axis=1, inplace=True)\n",
    "                out_file.insert(1, \"n_neighbors\", [params_ds.get(ds)[0]])\n",
    "                out_file.insert(2, \"n_neighbors_best\", [0])\n",
    "            \n",
    "            df = pd.concat([df, out_file])\n",
    "    \n",
    "    f_name = '_'.join([params_ds.get(ds)[2], 'results.csv'])\n",
    "    df.to_csv(\"/\".join(['..', 'out', f_name]))        \n",
    "    \n",
    "    print(\"... done.\")"
   ]
  }
 ],
 "metadata": {
  "kernelspec": {
   "display_name": "Python 3 (ipykernel)",
   "language": "python",
   "name": "python3"
  },
  "language_info": {
   "codemirror_mode": {
    "name": "ipython",
    "version": 3
   },
   "file_extension": ".py",
   "mimetype": "text/x-python",
   "name": "python",
   "nbconvert_exporter": "python",
   "pygments_lexer": "ipython3",
   "version": "3.9.7"
  }
 },
 "nbformat": 4,
 "nbformat_minor": 4
}
